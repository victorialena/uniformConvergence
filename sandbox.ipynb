{
 "cells": [
  {
   "cell_type": "code",
   "execution_count": 3,
   "id": "4929dcba",
   "metadata": {},
   "outputs": [],
   "source": [
    "import argparse\n",
    "\n",
    "import dgl\n",
    "import networkx as nx\n",
    "import numpy as np\n",
    "\n",
    "import torch\n",
    "import torch.nn as nn\n",
    "import torch.nn.functional as F\n",
    "\n",
    "from nodeclassification import *\n",
    "from models import NodeClassification\n",
    "\n",
    "import pdb\n",
    "import random"
   ]
  },
  {
   "cell_type": "code",
   "execution_count": 4,
   "id": "e920f005",
   "metadata": {},
   "outputs": [],
   "source": [
    "graphs, cov = synthetic_dataset(2, sample_cov)"
   ]
  },
  {
   "cell_type": "code",
   "execution_count": 6,
   "id": "4e2f195f",
   "metadata": {},
   "outputs": [],
   "source": [
    "batched_graph = dgl.batch(graphs)\n",
    "labels = get_labels(batched_graph)\n",
    "feats, mask = get_normalized_features(batched_graph)"
   ]
  },
  {
   "cell_type": "code",
   "execution_count": 29,
   "id": "4f23f38f",
   "metadata": {},
   "outputs": [],
   "source": [
    "prior = feats[mask]"
   ]
  },
  {
   "cell_type": "code",
   "execution_count": 31,
   "id": "d1497405",
   "metadata": {},
   "outputs": [
    {
     "data": {
      "text/plain": [
       "tensor([-1.6341, -1.3157, -0.6225])"
      ]
     },
     "execution_count": 31,
     "metadata": {},
     "output_type": "execute_result"
    }
   ],
   "source": [
    "prior[1].log()"
   ]
  },
  {
   "cell_type": "code",
   "execution_count": null,
   "id": "364e031a",
   "metadata": {},
   "outputs": [],
   "source": [
    "def h_star(g, mask, cov, prior, num=NUM_TEST_PER_GRAPH, logits=True):\n",
    "    H = get_labels(g)\n",
    "    out = torch.stack([H[g.successors(nid)].mm(cov[i//num]).log().sum(0) + prior[i].log() for i, nid in enumerate(mask)])\n",
    "    if logits: return out\n",
    "    return out.softmax(1)"
   ]
  },
  {
   "cell_type": "code",
   "execution_count": 23,
   "id": "d3e9dd52",
   "metadata": {},
   "outputs": [
    {
     "data": {
      "text/plain": [
       "tensor([-12.0355,  -8.3995, -18.5407])"
      ]
     },
     "execution_count": 23,
     "metadata": {},
     "output_type": "execute_result"
    }
   ],
   "source": [
    "H[batched_graph.successors(14)].mm(cov[0]).log().sum(0) + "
   ]
  },
  {
   "cell_type": "code",
   "execution_count": 26,
   "id": "06a2d39e",
   "metadata": {},
   "outputs": [
    {
     "data": {
      "text/plain": [
       "tensor([0.1951, 0.2683, 0.5366])"
      ]
     },
     "execution_count": 26,
     "metadata": {},
     "output_type": "execute_result"
    }
   ],
   "source": [
    "feats[14]"
   ]
  },
  {
   "cell_type": "code",
   "execution_count": 18,
   "id": "8b217277",
   "metadata": {},
   "outputs": [
    {
     "data": {
      "text/plain": [
       "tensor([[1., 0., 0.],\n",
       "        [1., 0., 0.],\n",
       "        [1., 0., 0.],\n",
       "        [0., 1., 0.],\n",
       "        [0., 1., 0.],\n",
       "        [0., 1., 0.],\n",
       "        [0., 1., 0.],\n",
       "        [0., 1., 0.]])"
      ]
     },
     "execution_count": 18,
     "metadata": {},
     "output_type": "execute_result"
    }
   ],
   "source": [
    "H[batched_graph.successors(14)]."
   ]
  },
  {
   "cell_type": "code",
   "execution_count": 16,
   "id": "84cf41fe",
   "metadata": {},
   "outputs": [
    {
     "data": {
      "text/plain": [
       "tensor([[0.7060, 0.1110, 0.0900],\n",
       "        [0.1110, 0.6970, 0.1040],\n",
       "        [0.0900, 0.1040, 0.7030]])"
      ]
     },
     "execution_count": 16,
     "metadata": {},
     "output_type": "execute_result"
    }
   ],
   "source": [
    "cov[0]"
   ]
  },
  {
   "cell_type": "code",
   "execution_count": 9,
   "id": "9d6946ba",
   "metadata": {},
   "outputs": [],
   "source": [
    "H = get_labels(batched_graph)"
   ]
  },
  {
   "cell_type": "code",
   "execution_count": 12,
   "id": "4418dbaa",
   "metadata": {},
   "outputs": [
    {
     "data": {
      "text/plain": [
       "tensor([14, 17, 24, 27, 29, 42, 48, 49, 69, 84])"
      ]
     },
     "execution_count": 12,
     "metadata": {},
     "output_type": "execute_result"
    }
   ],
   "source": [
    "mask"
   ]
  },
  {
   "cell_type": "code",
   "execution_count": 7,
   "id": "f3f959dd",
   "metadata": {},
   "outputs": [
    {
     "data": {
      "text/plain": [
       "tensor([[-12.0355,  -8.3995, -18.5407],\n",
       "        [-15.8070,  -6.3316, -12.0216],\n",
       "        [-36.5344, -34.8380, -18.2427],\n",
       "        [-35.9095, -32.0481,  -7.1969],\n",
       "        [-41.0735, -38.7730, -10.3097],\n",
       "        [-14.6495, -26.7846, -28.2094],\n",
       "        [ -9.2397, -23.5140, -16.7377],\n",
       "        [-21.4507, -32.0307, -31.3362],\n",
       "        [-30.6438, -13.4954, -32.0339],\n",
       "        [-29.5342, -34.0567,  -6.6967]])"
      ]
     },
     "execution_count": 7,
     "metadata": {},
     "output_type": "execute_result"
    }
   ],
   "source": [
    "h_star(batched_graph, mask, cov)"
   ]
  },
  {
   "cell_type": "code",
   "execution_count": null,
   "id": "5a8b79bf",
   "metadata": {},
   "outputs": [],
   "source": []
  }
 ],
 "metadata": {
  "kernelspec": {
   "display_name": "dgl",
   "language": "python",
   "name": "dgl"
  },
  "language_info": {
   "codemirror_mode": {
    "name": "ipython",
    "version": 3
   },
   "file_extension": ".py",
   "mimetype": "text/x-python",
   "name": "python",
   "nbconvert_exporter": "python",
   "pygments_lexer": "ipython3",
   "version": "3.8.10"
  }
 },
 "nbformat": 4,
 "nbformat_minor": 5
}
