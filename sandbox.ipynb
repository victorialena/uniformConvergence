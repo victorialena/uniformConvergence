{
 "cells": [
  {
   "cell_type": "code",
   "execution_count": 26,
   "id": "4929dcba",
   "metadata": {},
   "outputs": [],
   "source": [
    "import argparse\n",
    "\n",
    "import dgl\n",
    "import networkx as nx\n",
    "import numpy as np\n",
    "\n",
    "import torch\n",
    "import torch.nn as nn\n",
    "import torch.nn.functional as F\n",
    "\n",
    "from graphregression import *\n",
    "from models import GraphRegression\n",
    "\n",
    "import pdb\n",
    "import random"
   ]
  },
  {
   "cell_type": "code",
   "execution_count": 13,
   "id": "4f052fed",
   "metadata": {},
   "outputs": [],
   "source": [
    "NUM_BLOCKS = 3"
   ]
  },
  {
   "cell_type": "code",
   "execution_count": 2,
   "id": "d5ef6850",
   "metadata": {},
   "outputs": [],
   "source": [
    "class Args:\n",
    "    num_samples = 1000\n",
    "    batch_size = 64\n",
    "    epochs = 10\n",
    "    num_test_samples = 10"
   ]
  },
  {
   "cell_type": "code",
   "execution_count": 3,
   "id": "bae122af",
   "metadata": {},
   "outputs": [],
   "source": [
    "args = Args()"
   ]
  },
  {
   "cell_type": "code",
   "execution_count": 4,
   "id": "22bf5173",
   "metadata": {},
   "outputs": [],
   "source": [
    "dataset = dgl.data.SBMMixtureDataset(5, 80, 4)"
   ]
  },
  {
   "cell_type": "code",
   "execution_count": 6,
   "id": "5dde347d",
   "metadata": {},
   "outputs": [],
   "source": [
    "def sbm(block_size, cov, self_loop=False, directed=False):\n",
    "    \"\"\" (Symmetric) Stochastic Block Model\n",
    "    https://docs.dgl.ai/generated/dgl.data.SBMMixtureDataset.html?highlight=sbm#dgl.data.SBMMixtureDataset\n",
    "    \n",
    "    n_blocks : int\n",
    "        Number of blocks.\n",
    "    cov : float\n",
    "        Matrix with diag terms denoting probability for intra-community edge (within a group, e.g., p), \n",
    "        and off diagonal terms the probability for inter-community edge (between two groups, e.g., q).\n",
    "\n",
    "    Returns dgl.Graph\n",
    "    \"\"\"\n",
    "    n = block_size.sum()\n",
    "    \n",
    "    probs = torch.repeat_interleave(cov, block_size, dim=1)\n",
    "    probs = torch.repeat_interleave(probs, block_size, dim=0)\n",
    "    \n",
    "    if directed:\n",
    "        adj = torch.rand(n,n) < probs\n",
    "        _from, _to = torch.where(adj & ~torch.eye(n, dtype=bool))        \n",
    "    else:\n",
    "        adj = (torch.rand(n,n) < probs).triu(1)\n",
    "        _from, _to = torch.where(adj+adj.t())\n",
    "    \n",
    "    if self_loop:\n",
    "        return dgl.graph((_from, _to), num_nodes=n).add_self_loop()\n",
    "    \n",
    "    return dgl.graph((_from, _to), num_nodes=n)"
   ]
  },
  {
   "cell_type": "code",
   "execution_count": 7,
   "id": "d5daad8d",
   "metadata": {},
   "outputs": [],
   "source": [
    "def sbm_helper(n_blocks, cov, self_loop=False, directed=False):\n",
    "    block_size = torch.randint(low=5, high=10, size=(n_blocks,))\n",
    "    g = sbm(block_size, cov, self_loop=False, directed=False)\n",
    "    g.ndata['y'] = torch.repeat_interleave(torch.arange(n_blocks), block_size).unsqueeze(-1)\n",
    "    return g"
   ]
  },
  {
   "cell_type": "code",
   "execution_count": 18,
   "id": "e51bb169",
   "metadata": {},
   "outputs": [],
   "source": [
    "def sample_cov(n, p=0.7, q=0.1, dev=0.01, eps=0.05):\n",
    "    cov = torch.normal(mean=q*torch.ones(n,n) + (p-q)*torch.eye(n), std=dev).clamp(min=eps, max=1-eps).round(decimals=3)\n",
    "    return cov.triu() + cov.triu(1).t()"
   ]
  },
  {
   "cell_type": "code",
   "execution_count": 11,
   "id": "9b29f975",
   "metadata": {},
   "outputs": [],
   "source": [
    "def synthetic_dataset(n, prior, add_self_loop=True):\n",
    "    labels = [prior(NUM_BLOCKS) for _ in range(n)]\n",
    "    graphs = [sbm_helper(NUM_BLOCKS, cov, self_loop=add_self_loop) for cov in labels]\n",
    "    \n",
    "    return graphs, labels"
   ]
  },
  {
   "cell_type": "code",
   "execution_count": 48,
   "id": "2ab07943",
   "metadata": {},
   "outputs": [],
   "source": [
    "cov = sample_cov(NUM_BLOCKS, 0.7, 0.1, 0.01)\n",
    "g = sbm_helper(NUM_BLOCKS, cov, self_loop=False)"
   ]
  },
  {
   "cell_type": "code",
   "execution_count": 12,
   "id": "0529a62e",
   "metadata": {},
   "outputs": [],
   "source": [
    "class Dataset(torch.utils.data.Dataset):\n",
    "    'Characterizes a dataset for PyTorch'\n",
    "    def __init__(self, n, prior):\n",
    "        self.n = n\n",
    "        self.G, self.labels = synthetic_dataset(self.n, prior)\n",
    "\n",
    "    def __len__(self):\n",
    "        return len(self.labels)\n",
    "\n",
    "    def __getitem__(self, index):\n",
    "        return self.G[index], self.labels[index]"
   ]
  },
  {
   "cell_type": "code",
   "execution_count": 19,
   "id": "36262f47",
   "metadata": {},
   "outputs": [],
   "source": [
    "dataset = Dataset(2, sample_cov)"
   ]
  },
  {
   "cell_type": "code",
   "execution_count": 23,
   "id": "ac25c10e",
   "metadata": {},
   "outputs": [],
   "source": [
    "g = dataset[0][0]"
   ]
  },
  {
   "cell_type": "code",
   "execution_count": 21,
   "id": "2b272d6d",
   "metadata": {},
   "outputs": [],
   "source": [
    "def draw(g, random=True):\n",
    "    if random:\n",
    "        colors = np.array([\"#\"+''.join([random.choice('0123456789ABCDEF') for j in range(6)])\n",
    "                          for i in range(NUM_BLOCKS)])\n",
    "        colors = colors[g.ndata['y'].squeeze().tolist()]\n",
    "    else:\n",
    "        colors = \"bgrcmykw\"\n",
    "        colors = [colors[i] for i in g.ndata['y'].squeeze().tolist()]\n",
    "        \n",
    "    nx.draw(g.to_networkx(), node_color=colors, arrows=False, with_labels=True)"
   ]
  },
  {
   "cell_type": "code",
   "execution_count": 298,
   "id": "381ddcec",
   "metadata": {},
   "outputs": [],
   "source": [
    "U, S, V = torch.svd(torch.eye(3).repeat_interleave(torch.randint(4,40, (3,)), dim=0))"
   ]
  },
  {
   "cell_type": "code",
   "execution_count": 299,
   "id": "9e0976a1",
   "metadata": {},
   "outputs": [
    {
     "data": {
      "text/plain": [
       "tensor([6.0828, 4.1231, 3.7417])"
      ]
     },
     "execution_count": 299,
     "metadata": {},
     "output_type": "execute_result"
    }
   ],
   "source": [
    "S"
   ]
  },
  {
   "cell_type": "code",
   "execution_count": 27,
   "id": "9d0b9c42",
   "metadata": {},
   "outputs": [
    {
     "data": {
      "image/png": "[encoded data removed]",
      "text/plain": [
       "<Figure size 432x288 with 1 Axes>"
      ]
     },
     "metadata": {},
     "output_type": "display_data"
    }
   ],
   "source": [
    "draw(g)"
   ]
  },
  {
   "cell_type": "code",
   "execution_count": 49,
   "id": "6d896e09",
   "metadata": {},
   "outputs": [],
   "source": [
    "g1, g2 = dataset[0][0], dataset[1][0]"
   ]
  },
  {
   "cell_type": "code",
   "execution_count": 52,
   "id": "916b1b63",
   "metadata": {},
   "outputs": [],
   "source": [
    "bg = dgl.batch([g1, g2])"
   ]
  },
  {
   "cell_type": "code",
   "execution_count": 119,
   "id": "20558002",
   "metadata": {},
   "outputs": [],
   "source": [
    "def get_mask(bg, num=5):\n",
    "    return torch.sort(torch.stack([torch.randperm(n)[:num] for n in bg.batch_num_nodes()]), dim=1)[0]\n",
    "\n",
    "def get_labels(bg):\n",
    "    return F.one_hot(bg.ndata['y'].squeeze()).to(torch.float32)\n",
    "\n",
    "def h_star(g, mask, cov, num=5):\n",
    "    return torch.stack([H[g.successors(nid)].mm(cov[i//num]).log().sum(0) for i, nid in enumerate(mask)])"
   ]
  },
  {
   "cell_type": "code",
   "execution_count": 173,
   "id": "45138a0d",
   "metadata": {},
   "outputs": [],
   "source": [
    "def get_normalized_features(bg, num=5):\n",
    "    mask = get_mask(bg, num=num)\n",
    "    \n",
    "    # get prior\n",
    "    H = get_labels(bg)\n",
    "    n = torch.cat([torch.tensor([0]), torch.cumsum(bg.batch_num_nodes(), dim=0)])\n",
    "    prior = torch.stack([H[s:t].mean(0) for s,t in zip(n[:-1], n[1:])])\n",
    "\n",
    "    prior = prior.repeat_interleave(num, dim=0)\n",
    "    mask = (mask+n[:-1].unsqueeze(-1)).flatten()\n",
    "    H[mask] = prior\n",
    "    \n",
    "    return H, mask  "
   ]
  },
  {
   "cell_type": "code",
   "execution_count": null,
   "id": "ba30e8bf",
   "metadata": {},
   "outputs": [],
   "source": [
    "def node_classification(args):\n",
    "    \n",
    "    model = NodeClassification()\n",
    "    dataset = Dataset(args.num_samples, sample_cov)\n",
    "    dataloader = dgl.dataloading.GraphDataLoader(dataset, batch_size=args.batch_size, shuffle=True, drop_last=False)\n",
    "\n",
    "    opt = torch.optim.Adam(model.parameters())\n",
    "    loss_fn = nn.CrossEntropyLoss()\n",
    "\n",
    "    model.train(True)\n",
    "    for _ in range(args.epochs):\n",
    "        for batched_graph, cov in dataloader:\n",
    "            labels = get_labels(batched_graph)\n",
    "            opt.zero_grad()\n",
    "            \n",
    "            feats, mask = get_normalized_features(batched_graph)\n",
    "            y_hat = model(batched_graph, feats)\n",
    "            loss = loss_fn(logits[mask], labels[mask])\n",
    "            loss.backward()\n",
    "            opt.step()\n",
    "    \n",
    "    return model"
   ]
  },
  {
   "cell_type": "code",
   "execution_count": null,
   "id": "e77d0483",
   "metadata": {},
   "outputs": [],
   "source": []
  }
 ],
 "metadata": {
  "kernelspec": {
   "display_name": "dgl",
   "language": "python",
   "name": "dgl"
  },
  "language_info": {
   "codemirror_mode": {
    "name": "ipython",
    "version": 3
   },
   "file_extension": ".py",
   "mimetype": "text/x-python",
   "name": "python",
   "nbconvert_exporter": "python",
   "pygments_lexer": "ipython3",
   "version": "3.8.10"
  }
 },
 "nbformat": 4,
 "nbformat_minor": 5
}
